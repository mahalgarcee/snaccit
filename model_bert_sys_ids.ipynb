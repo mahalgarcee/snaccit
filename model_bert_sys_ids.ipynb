{
 "cells": [
  {
   "cell_type": "code",
   "execution_count": 1,
   "id": "8aaecba8",
   "metadata": {},
   "outputs": [],
   "source": [
    "#all the needed Imports\n",
    "import pandas as pd\n",
    "import numpy as np\n",
    "import matplotlib.pyplot as plt\n",
    "import sklearn\n",
    "from sklearn.metrics.pairwise import cosine_similarity\n",
    "import re\n",
    "import gensim\n",
    "from gensim.parsing.preprocessing import remove_stopwords\n",
    "from bs4 import BeautifulSoup"
   ]
  },
  {
   "cell_type": "code",
   "execution_count": 2,
   "id": "cb9d447f",
   "metadata": {},
   "outputs": [],
   "source": [
    "df = pd.read_excel(\"sys_id.xlsx\")"
   ]
  },
  {
   "cell_type": "code",
   "execution_count": 3,
   "id": "b3c9b02c",
   "metadata": {},
   "outputs": [
    {
     "data": {
      "text/html": [
       "<div>\n",
       "<style scoped>\n",
       "    .dataframe tbody tr th:only-of-type {\n",
       "        vertical-align: middle;\n",
       "    }\n",
       "\n",
       "    .dataframe tbody tr th {\n",
       "        vertical-align: top;\n",
       "    }\n",
       "\n",
       "    .dataframe thead th {\n",
       "        text-align: right;\n",
       "    }\n",
       "</style>\n",
       "<table border=\"1\" class=\"dataframe\">\n",
       "  <thead>\n",
       "    <tr style=\"text-align: right;\">\n",
       "      <th></th>\n",
       "      <th>Number</th>\n",
       "      <th>Short description</th>\n",
       "      <th>Author</th>\n",
       "      <th>Article body</th>\n",
       "    </tr>\n",
       "  </thead>\n",
       "  <tbody>\n",
       "    <tr>\n",
       "      <th>0</th>\n",
       "      <td>KB0017514</td>\n",
       "      <td>Update Password Action in Flow Designer</td>\n",
       "      <td>Georgios Nikas</td>\n",
       "      <td>&lt;p class=\"cm-comment-text-detail ng-binding ng...</td>\n",
       "    </tr>\n",
       "    <tr>\n",
       "      <th>1</th>\n",
       "      <td>KB0017513</td>\n",
       "      <td>Service Portal form cell spacing or padding no...</td>\n",
       "      <td>Georgios Nikas</td>\n",
       "      <td>&lt;p class=\"cm-comment-text-detail ng-binding ng...</td>\n",
       "    </tr>\n",
       "    <tr>\n",
       "      <th>2</th>\n",
       "      <td>KB0017512</td>\n",
       "      <td>Reporting on flagged field in knowledge manage...</td>\n",
       "      <td>Georgios Nikas</td>\n",
       "      <td>&lt;p class=\"cm-comment-text-detail ng-binding ng...</td>\n",
       "    </tr>\n",
       "    <tr>\n",
       "      <th>3</th>\n",
       "      <td>KB0017511</td>\n",
       "      <td>Ticket Conversation Widget in Service Portal -...</td>\n",
       "      <td>Georgios Nikas</td>\n",
       "      <td>&lt;p class=\"cm-comment-text-detail ng-binding ng...</td>\n",
       "    </tr>\n",
       "    <tr>\n",
       "      <th>4</th>\n",
       "      <td>KB0017510</td>\n",
       "      <td>Service portal basics - how do I print data fr...</td>\n",
       "      <td>Georgios Nikas</td>\n",
       "      <td>&lt;p class=\"cm-comment-text-detail ng-binding ng...</td>\n",
       "    </tr>\n",
       "    <tr>\n",
       "      <th>...</th>\n",
       "      <td>...</td>\n",
       "      <td>...</td>\n",
       "      <td>...</td>\n",
       "      <td>...</td>\n",
       "    </tr>\n",
       "    <tr>\n",
       "      <th>5750</th>\n",
       "      <td>KB0011761</td>\n",
       "      <td>buttons on email notification</td>\n",
       "      <td>Georgios Nikas</td>\n",
       "      <td>&lt;p class=\"cm-comment-text-detail ng-binding ng...</td>\n",
       "    </tr>\n",
       "    <tr>\n",
       "      <th>5751</th>\n",
       "      <td>KB0011760</td>\n",
       "      <td>Create object from XML attachment larger than 5MB</td>\n",
       "      <td>Georgios Nikas</td>\n",
       "      <td>&lt;p class=\"cm-comment-text-detail ng-binding ng...</td>\n",
       "    </tr>\n",
       "    <tr>\n",
       "      <th>5752</th>\n",
       "      <td>KB0011759</td>\n",
       "      <td>addQuery and addEncodedQuery queries not worki...</td>\n",
       "      <td>Georgios Nikas</td>\n",
       "      <td>&lt;p class=\"cm-comment-text-detail ng-binding ng...</td>\n",
       "    </tr>\n",
       "    <tr>\n",
       "      <th>5753</th>\n",
       "      <td>KB0011758</td>\n",
       "      <td>Query to find max date</td>\n",
       "      <td>Georgios Nikas</td>\n",
       "      <td>&lt;p class=\"cm-comment-text-detail ng-binding ng...</td>\n",
       "    </tr>\n",
       "    <tr>\n",
       "      <th>5754</th>\n",
       "      <td>KB0011757</td>\n",
       "      <td>how to cut / trim the value short_description ...</td>\n",
       "      <td>Georgios Nikas</td>\n",
       "      <td>&lt;p class=\"cm-comment-text-detail ng-binding ng...</td>\n",
       "    </tr>\n",
       "  </tbody>\n",
       "</table>\n",
       "<p>5755 rows × 4 columns</p>\n",
       "</div>"
      ],
      "text/plain": [
       "         Number                                  Short description  \\\n",
       "0     KB0017514            Update Password Action in Flow Designer   \n",
       "1     KB0017513  Service Portal form cell spacing or padding no...   \n",
       "2     KB0017512  Reporting on flagged field in knowledge manage...   \n",
       "3     KB0017511  Ticket Conversation Widget in Service Portal -...   \n",
       "4     KB0017510  Service portal basics - how do I print data fr...   \n",
       "...         ...                                                ...   \n",
       "5750  KB0011761                      buttons on email notification   \n",
       "5751  KB0011760  Create object from XML attachment larger than 5MB   \n",
       "5752  KB0011759  addQuery and addEncodedQuery queries not worki...   \n",
       "5753  KB0011758                             Query to find max date   \n",
       "5754  KB0011757  how to cut / trim the value short_description ...   \n",
       "\n",
       "              Author                                       Article body  \n",
       "0     Georgios Nikas  <p class=\"cm-comment-text-detail ng-binding ng...  \n",
       "1     Georgios Nikas  <p class=\"cm-comment-text-detail ng-binding ng...  \n",
       "2     Georgios Nikas  <p class=\"cm-comment-text-detail ng-binding ng...  \n",
       "3     Georgios Nikas  <p class=\"cm-comment-text-detail ng-binding ng...  \n",
       "4     Georgios Nikas  <p class=\"cm-comment-text-detail ng-binding ng...  \n",
       "...              ...                                                ...  \n",
       "5750  Georgios Nikas  <p class=\"cm-comment-text-detail ng-binding ng...  \n",
       "5751  Georgios Nikas  <p class=\"cm-comment-text-detail ng-binding ng...  \n",
       "5752  Georgios Nikas  <p class=\"cm-comment-text-detail ng-binding ng...  \n",
       "5753  Georgios Nikas  <p class=\"cm-comment-text-detail ng-binding ng...  \n",
       "5754  Georgios Nikas  <p class=\"cm-comment-text-detail ng-binding ng...  \n",
       "\n",
       "[5755 rows x 4 columns]"
      ]
     },
     "execution_count": 3,
     "metadata": {},
     "output_type": "execute_result"
    }
   ],
   "source": [
    "df"
   ]
  },
  {
   "cell_type": "code",
   "execution_count": 4,
   "id": "a4bb5767",
   "metadata": {},
   "outputs": [],
   "source": [
    "for column in df.columns[3:]:\n",
    "    for index in range(len(df[column])):\n",
    "        #slicing the column\n",
    "        soup = BeautifulSoup(\"\"+df.at[index,'Article body']+\"\")\n",
    "        soup_ = soup.get_text()\n",
    "        soup_ = soup_.replace(\"\\n\", \"\")\n",
    "        soup_ = soup_.replace(\"\\xa0\", \"\")\n",
    "        soup_ = soup_.replace(\"\\\\\" ,  \"\" )\n",
    "        df.at[index,'Article body'] = soup_\n",
    "df = df.astype({\"Short description\": str})\n",
    "index_list = []\n",
    "for index, row in df.iterrows():\n",
    "        if((len(row[\"Short description\"]) < 15) | (len(row[\"Short description\"])> 861)):\n",
    "            df.drop(index, inplace=True)"
   ]
  },
  {
   "cell_type": "code",
   "execution_count": 5,
   "id": "77a5375b",
   "metadata": {
    "scrolled": true
   },
   "outputs": [],
   "source": [
    "def clean_sentence(s, stopWords=False):\n",
    "    s = s.lower().strip()\n",
    "    #s = re.sub(r'[^a-z0-9\\s]',' ',s)\n",
    "    if stopWords:\n",
    "        s = remove_stopwords(s)\n",
    "    return s\n",
    "\n",
    "def get_cleaned(df, stopWords=False):\n",
    "    sents = df[[\"Short description\"]]\n",
    "    cleaned_sentences = []\n",
    "    for index, row in df.iterrows():\n",
    "        cleaned = clean_sentence(row[\"Short description\"], stopWords)\n",
    "        cleaned_sentences.append(cleaned)\n",
    "    return cleaned_sentences\n",
    "cleaned_s_with_not_stopword = get_cleaned(df, stopWords=True)"
   ]
  },
  {
   "cell_type": "code",
   "execution_count": 6,
   "id": "1b29b85e",
   "metadata": {},
   "outputs": [],
   "source": [
    "from bert_serving.client import BertClient\n",
    "bc = BertClient()"
   ]
  },
  {
   "cell_type": "code",
   "execution_count": 7,
   "id": "8eaabd87",
   "metadata": {},
   "outputs": [],
   "source": [
    "#run this cell only once !!!!!!!!!!!!!!!!!!!!!!\n",
    "questions_embedding = []\n",
    "for question_ in cleaned_s_with_not_stopword:\n",
    "    questions_embedding.append(bc.encode([question_]))"
   ]
  },
  {
   "cell_type": "code",
   "execution_count": 42,
   "id": "f2a7f81e",
   "metadata": {},
   "outputs": [],
   "source": [
    "def retrieveAndPrintAnswer(question_embedding, sentence_embeddings, df, sentences):\n",
    "    max_sim = -1\n",
    "    index_sim = -1\n",
    "    potential_questions_indexes = []\n",
    "    potential_questions = []\n",
    "    answers = {}\n",
    "    for index, faq_embedding in enumerate(sentence_embeddings):\n",
    "        sim = cosine_similarity(faq_embedding, question_embedding)[0][0]    \n",
    "        if sim>max_sim:\n",
    "            max_sim = sim\n",
    "            index_sim = index\n",
    "            if(index_sim!=0):\n",
    "                potential_questions_indexes.append(df.iloc[index_sim,0])\n",
    "                potential_questions.append(df.iloc[index_sim,3])\n",
    "    if(len(potential_questions)>11):\n",
    "        potential_questions_indexes = potential_questions_indexes[:10]\n",
    "        potential_questions= potential_questions[:10]\n",
    "    answers = dict( zip(potential_questions_indexes,potential_questions))\n",
    "    return answers"
   ]
  },
  {
   "cell_type": "code",
   "execution_count": 43,
   "id": "04199296",
   "metadata": {},
   "outputs": [],
   "source": [
    "def getAnswers(question):\n",
    "    question = clean_sentence(question, stopWords=True)\n",
    "    question_embedding = bc.encode([question])\n",
    "    answers = retrieveAndPrintAnswer(question_embedding, questions_embedding, df, cleaned_s_with_not_stopword)\n",
    "    return answers   "
   ]
  },
  {
   "cell_type": "code",
   "execution_count": 48,
   "id": "f951ffd2",
   "metadata": {},
   "outputs": [
    {
     "data": {
      "text/plain": [
       "'Reporting on flagged field in knowledge management'"
      ]
     },
     "execution_count": 48,
     "metadata": {},
     "output_type": "execute_result"
    }
   ],
   "source": [
    "df[\"Short description\"][2]"
   ]
  },
  {
   "cell_type": "code",
   "execution_count": 53,
   "id": "0b7350bd",
   "metadata": {},
   "outputs": [],
   "source": [
    "#test\n",
    "answers = getAnswers(\"How to report on flagged field in knowledge management?\")"
   ]
  },
  {
   "cell_type": "code",
   "execution_count": 54,
   "id": "91a895ee",
   "metadata": {},
   "outputs": [
    {
     "name": "stdout",
     "output_type": "stream",
     "text": [
      "{\n",
      "    \"KB0017513\": \"I found out this is a problem with ServiceNow. I have problem ticket open with ServiceNow HI Support, so we will see if they resolve the issue. In the mean as a solution, I add 8px white border around the image so it achieved the sameeffect.-Wesley\",\n",
      "    \"KB0017512\": \"This would give you the date the article was flagged. It creates a new entry when articles are flagged, rated, commented, etc.No scripting needed.  Schedule that and check the box that says \\\"Don't send if empty\\\" (or something like that). I think that meets your requirements.\",\n",
      "    \"KB0017415\": \"Hi Ronald,Having a field in multiple places in a form doesn't sounds right. And having 150+ fields within a form sounds like asking for trouble.It sounds like you rather should have used ACLs (security rules) or UI policies or even Views so that the users see the fields they only need to see.Thanks,Berny\",\n",
      "    \"KB0015401\": \"Hi Varun,Have you tried list editing? You can click-select (drag) to highlight and change multiple records at once.Editing Lists - ServiceNow Wiki \",\n",
      "    \"KB0012728\": \"This works with me after adding the table names to the system property. First thing you should do is go back to the system property and verify the table(s) are actually there. Depending on the length of that field they may have been truncated (which would prevent them from showing properly).Also, you should make sure that the user trying to create the report has the 'report_on' operation for that table granted in the ACLs.\"\n",
      "}\n"
     ]
    }
   ],
   "source": [
    "import json\n",
    "print(json.dumps(answers, sort_keys=False, indent=4))"
   ]
  }
 ],
 "metadata": {
  "kernelspec": {
   "display_name": "Python 3 (ipykernel)",
   "language": "python",
   "name": "python3"
  },
  "language_info": {
   "codemirror_mode": {
    "name": "ipython",
    "version": 3
   },
   "file_extension": ".py",
   "mimetype": "text/x-python",
   "name": "python",
   "nbconvert_exporter": "python",
   "pygments_lexer": "ipython3",
   "version": "3.7.13"
  }
 },
 "nbformat": 4,
 "nbformat_minor": 5
}
