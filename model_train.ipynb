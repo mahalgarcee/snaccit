{
 "cells": [
  {
   "cell_type": "markdown",
   "id": "82b1207e",
   "metadata": {},
   "source": [
    "**Preprocessing**"
   ]
  },
  {
   "cell_type": "code",
   "execution_count": null,
   "id": "8519444b",
   "metadata": {
    "scrolled": true
   },
   "outputs": [],
   "source": [
    "#all the needed Imports\n",
    "import pandas as pd\n",
    "import numpy as np\n",
    "import matplotlib.pyplot as plt\n",
    "import sklearn\n",
    "from sklearn.metrics.pairwise import cosine_similarity"
   ]
  },
  {
   "cell_type": "code",
   "execution_count": null,
   "id": "39a73b79",
   "metadata": {},
   "outputs": [],
   "source": [
    "df = pd.read_excel(\"ServiceNowQuestions_clean.xlsx\")"
   ]
  },
  {
   "cell_type": "code",
   "execution_count": null,
   "id": "5a8f35e3",
   "metadata": {
    "scrolled": true
   },
   "outputs": [],
   "source": [
    "df.drop('Tags', inplace=True, axis=1)\n",
    "df.drop('index', inplace=True, axis=1)\n",
    "df.drop('Title', inplace=True, axis=1)\n",
    "df.drop('level_0', inplace=True, axis=1)"
   ]
  },
  {
   "cell_type": "code",
   "execution_count": null,
   "id": "72749ca4",
   "metadata": {},
   "outputs": [],
   "source": [
    "df = df.astype({\"Question\": str})"
   ]
  },
  {
   "cell_type": "code",
   "execution_count": null,
   "id": "848fa80b",
   "metadata": {
    "scrolled": true
   },
   "outputs": [],
   "source": [
    "# min_ = 100\n",
    "# question_len = []\n",
    "# print(question_len)\n",
    "# for index, row in df.iterrows():\n",
    "#          question_len.append(len(row[\"Question\"]))\n",
    "\n",
    "\n",
    "# fig = plt.figure(figsize =(10, 7))\n",
    " \n",
    "# # Creating plot\n",
    "# plt.boxplot(question_len)\n",
    " \n",
    "# # show plot\n",
    "# plt.show()\n",
    "# print(np.max(question_len))\n",
    "# print(np.min(question_len))\n",
    "#question_len_df.describe()"
   ]
  },
  {
   "cell_type": "code",
   "execution_count": null,
   "id": "d4ed6063",
   "metadata": {},
   "outputs": [],
   "source": [
    "#remove outliers\n",
    "index_list = []\n",
    "for index, row in df.iterrows():\n",
    "        if((len(row[\"Question\"]) < 15) | (len(row[\"Question\"])> 861)):\n",
    "            df.drop(index, inplace=True)\n",
    "\n",
    "\n",
    "# question_len = []\n",
    "# print(question_len)\n",
    "# for index, row in df.iterrows():\n",
    "#         question_len.append(len(row[\"Question\"]))\n",
    "\n",
    "\n",
    "# fig = plt.figure(figsize =(10, 7))\n",
    " \n",
    "# # Creating plot\n",
    "# plt.boxplot(question_len)\n",
    " \n",
    "# # show plot\n",
    "# plt.show()\n",
    "\n",
    "df = df.reset_index()"
   ]
  },
  {
   "cell_type": "code",
   "execution_count": null,
   "id": "fabf6ee5",
   "metadata": {},
   "outputs": [],
   "source": [
    "import re\n",
    "import gensim\n",
    "from gensim.parsing.preprocessing import remove_stopwords"
   ]
  },
  {
   "cell_type": "code",
   "execution_count": null,
   "id": "fcce56e0",
   "metadata": {
    "scrolled": false
   },
   "outputs": [],
   "source": [
    "def clean_sentence(s, stopWords=False):\n",
    "    s = s.lower().strip()\n",
    "    #s = re.sub(r'[^a-z0-9\\s]',' ',s)\n",
    "    if stopWords:\n",
    "        s = remove_stopwords(s)\n",
    "    return s\n",
    "\n",
    "def get_cleaned(df, stopWords=False):\n",
    "    sents = df[[\"Question\"]]\n",
    "    cleaned_sentences = []\n",
    "    for index, row in df.iterrows():\n",
    "        cleaned = clean_sentence(row[\"Question\"], stopWords)\n",
    "        cleaned_sentences.append(cleaned)\n",
    "    return cleaned_sentences"
   ]
  },
  {
   "cell_type": "code",
   "execution_count": null,
   "id": "34f73147",
   "metadata": {
    "scrolled": true
   },
   "outputs": [],
   "source": [
    "from bert_serving.client import BertClient\n",
    "bc = BertClient()"
   ]
  },
  {
   "cell_type": "code",
   "execution_count": null,
   "id": "0aa66962",
   "metadata": {},
   "outputs": [],
   "source": [
    "#run this cell only once !!!!!!!!!!!!!!!!!!!!!!\n",
    "questions_embedding = []\n",
    "for question_ in cleaned_s_with_not_stopword:\n",
    "    questions_embedding.append(bc.encode([question_]))"
   ]
  },
  {
   "cell_type": "code",
   "execution_count": null,
   "id": "b7cf85bc",
   "metadata": {
    "scrolled": true
   },
   "outputs": [],
   "source": [
    "def retrieveAndPrintAnswer(question_embedding, sentence_embeddings, df, sentences):\n",
    "    max_sim = -1\n",
    "    index_sim = -1\n",
    "    for index, faq_embedding in enumerate(sentence_embeddings):\n",
    "        sim = cosine_similarity(faq_embedding, question_embedding)[0][0]    \n",
    "        if sim>max_sim:\n",
    "            max_sim = sim\n",
    "            index_sim = index\n",
    "            print(index, sim)\n",
    "    print(\"\\n\")\n",
    "    print(\"Question:\", question)\n",
    "    print(\"\\n\")\n",
    "    print(\"Question retrieved:\", df.iloc[index_sim,1])\n",
    "    print(\"\\n\")\n",
    "    print(\"Answer retrieved:\",df.iloc[index_sim,2])"
   ]
  },
  {
   "cell_type": "code",
   "execution_count": null,
   "id": "c8e68538",
   "metadata": {},
   "outputs": [],
   "source": [
    "#input your Question here\n",
    "question = \"\"\"the best way to perform encryption-decryption of an alphanumeric string \"\"\"\n",
    "question = clean_sentence(question, stopWords=True)\n",
    "question_embedding = bc.encode([question])"
   ]
  },
  {
   "cell_type": "code",
   "execution_count": null,
   "id": "e56cd74b",
   "metadata": {
    "scrolled": true
   },
   "outputs": [],
   "source": [
    "#you get the answer here\n",
    "retrieveAndPrintAnswer(question_embedding, questions_embedding, df, cleaned_s_with_not_stopword)"
   ]
  }
 ],
 "metadata": {
  "kernelspec": {
   "display_name": "Python 3 (ipykernel)",
   "language": "python",
   "name": "python3"
  },
  "language_info": {
   "codemirror_mode": {
    "name": "ipython",
    "version": 3
   },
   "file_extension": ".py",
   "mimetype": "text/x-python",
   "name": "python",
   "nbconvert_exporter": "python",
   "pygments_lexer": "ipython3",
   "version": "3.7.13"
  }
 },
 "nbformat": 4,
 "nbformat_minor": 5
}
