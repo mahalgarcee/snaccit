{
 "cells": [
  {
   "cell_type": "markdown",
   "id": "82b1207e",
   "metadata": {},
   "source": [
    "**Preprocessing**"
   ]
  },
  {
   "cell_type": "code",
   "execution_count": 1,
   "id": "8519444b",
   "metadata": {
    "scrolled": true
   },
   "outputs": [],
   "source": [
    "#all the needed Imports\n",
    "import pandas as pd\n",
    "import numpy as np\n",
    "import matplotlib.pyplot as plt\n",
    "import sklearn\n",
    "from sklearn.metrics.pairwise import cosine_similarity\n",
    "import re\n",
    "import gensim\n",
    "from gensim.parsing.preprocessing import remove_stopwords"
   ]
  },
  {
   "cell_type": "code",
   "execution_count": 2,
   "id": "39a73b79",
   "metadata": {},
   "outputs": [],
   "source": [
    "df = pd.read_excel(\"ServiceNowQuestions_clean.xlsx\")"
   ]
  },
  {
   "cell_type": "code",
   "execution_count": 3,
   "id": "5a8f35e3",
   "metadata": {
    "scrolled": true
   },
   "outputs": [],
   "source": [
    "df.drop('Tags', inplace=True, axis=1)\n",
    "df.drop('index', inplace=True, axis=1)\n",
    "df.drop('Title', inplace=True, axis=1)\n",
    "df.drop('level_0', inplace=True, axis=1)"
   ]
  },
  {
   "cell_type": "code",
   "execution_count": 4,
   "id": "72749ca4",
   "metadata": {},
   "outputs": [],
   "source": [
    "df = df.astype({\"Question\": str})"
   ]
  },
  {
   "cell_type": "code",
   "execution_count": 5,
   "id": "848fa80b",
   "metadata": {
    "scrolled": true
   },
   "outputs": [],
   "source": [
    "# min_ = 100\n",
    "# question_len = []\n",
    "# print(question_len)\n",
    "# for index, row in df.iterrows():\n",
    "#          question_len.append(len(row[\"Question\"]))\n",
    "\n",
    "\n",
    "# fig = plt.figure(figsize =(10, 7))\n",
    " \n",
    "# # Creating plot\n",
    "# plt.boxplot(question_len)\n",
    " \n",
    "# # show plot\n",
    "# plt.show()\n",
    "# print(np.max(question_len))\n",
    "# print(np.min(question_len))\n",
    "#question_len_df.describe()"
   ]
  },
  {
   "cell_type": "code",
   "execution_count": 6,
   "id": "d4ed6063",
   "metadata": {},
   "outputs": [],
   "source": [
    "#remove outliers\n",
    "index_list = []\n",
    "for index, row in df.iterrows():\n",
    "        if((len(row[\"Question\"]) < 15) | (len(row[\"Question\"])> 861)):\n",
    "            df.drop(index, inplace=True)\n",
    "\n",
    "\n",
    "# question_len = []\n",
    "# print(question_len)\n",
    "# for index, row in df.iterrows():\n",
    "#         question_len.append(len(row[\"Question\"]))\n",
    "\n",
    "\n",
    "# fig = plt.figure(figsize =(10, 7))\n",
    " \n",
    "# # Creating plot\n",
    "# plt.boxplot(question_len)\n",
    " \n",
    "# # show plot\n",
    "# plt.show()\n",
    "\n",
    "df = df.reset_index()"
   ]
  },
  {
   "cell_type": "code",
   "execution_count": 8,
   "id": "fcce56e0",
   "metadata": {
    "scrolled": false
   },
   "outputs": [],
   "source": [
    "def clean_sentence(s, stopWords=False):\n",
    "    s = s.lower().strip()\n",
    "    #s = re.sub(r'[^a-z0-9\\s]',' ',s)\n",
    "    if stopWords:\n",
    "        s = remove_stopwords(s)\n",
    "    return s\n",
    "\n",
    "def get_cleaned(df, stopWords=False):\n",
    "    sents = df[[\"Question\"]]\n",
    "    cleaned_sentences = []\n",
    "    for index, row in df.iterrows():\n",
    "        cleaned = clean_sentence(row[\"Question\"], stopWords)\n",
    "        cleaned_sentences.append(cleaned)\n",
    "    return cleaned_sentences\n",
    "cleaned_s_with_not_stopword = get_cleaned(df, stopWords=True)"
   ]
  },
  {
   "cell_type": "code",
   "execution_count": 14,
   "id": "34f73147",
   "metadata": {
    "scrolled": true
   },
   "outputs": [],
   "source": [
    "from bert_serving.client import BertClient\n",
    "bc = BertClient()"
   ]
  },
  {
   "cell_type": "code",
   "execution_count": 15,
   "id": "0aa66962",
   "metadata": {},
   "outputs": [
    {
     "name": "stderr",
     "output_type": "stream",
     "text": [
      "C:\\Users\\Maha\\anaconda3\\envs\\bert\\lib\\site-packages\\bert_serving\\client\\__init__.py:299: UserWarning: some of your sentences have more tokens than \"max_seq_len=25\" set on the server, as consequence you may get less-accurate or truncated embeddings.\n",
      "here is what you can do:\n",
      "- disable the length-check by create a new \"BertClient(check_length=False)\" when you do not want to display this warning\n",
      "- or, start a new server with a larger \"max_seq_len\"\n",
      "  '- or, start a new server with a larger \"max_seq_len\"' % self.length_limit)\n"
     ]
    }
   ],
   "source": [
    "#run this cell only once !!!!!!!!!!!!!!!!!!!!!!\n",
    "questions_embedding = []\n",
    "for question_ in cleaned_s_with_not_stopword:\n",
    "    questions_embedding.append(bc.encode([question_]))"
   ]
  },
  {
   "cell_type": "code",
   "execution_count": 47,
   "id": "b7cf85bc",
   "metadata": {
    "scrolled": true
   },
   "outputs": [],
   "source": [
    "def retrieveAndPrintAnswer(question_embedding, sentence_embeddings, df, sentences):\n",
    "    max_sim = -1\n",
    "    index_sim = -1\n",
    "    potential_questions_indexes = []\n",
    "    potential_questions = []\n",
    "    answers = {}\n",
    "    for index, faq_embedding in enumerate(sentence_embeddings):\n",
    "        sim = cosine_similarity(faq_embedding, question_embedding)[0][0]    \n",
    "        if sim>max_sim:\n",
    "            max_sim = sim\n",
    "            index_sim = index\n",
    "            potential_questions_indexes.append(index_sim)\n",
    "            potential_questions.append(df.iloc[index_sim,1])\n",
    "    if(len(potential_questions)>11):\n",
    "        potential_questions_indexes = potential_questions_indexes[1:11]\n",
    "        potential_questions= potential_questions[1:11]\n",
    "    potential_questions_indexes.reverse()\n",
    "    potential_questions.reverse()\n",
    "    answers = dict( zip(potential_questions_indexes,potential_questions))\n",
    "    return answers \n",
    "#     print(\"\\n\")\n",
    "#     print(\"Question:\", question)\n",
    "#     print(\"\\n\")\n",
    "#     print(\"Question retrieved:\", df.iloc[index_sim,1])\n",
    "#     print(\"\\n\")\n",
    "#     print(\"Answer retrieved:\",df.iloc[index_sim,2])"
   ]
  },
  {
   "cell_type": "code",
   "execution_count": 48,
   "id": "c8e68538",
   "metadata": {},
   "outputs": [],
   "source": [
    "def getAnswers(question):\n",
    "    question = clean_sentence(question, stopWords=True)\n",
    "    question_embedding = bc.encode([question])\n",
    "    answers = retrieveAndPrintAnswer(question_embedding, questions_embedding, df, cleaned_s_with_not_stopword)\n",
    "    return answers   "
   ]
  },
  {
   "cell_type": "code",
   "execution_count": 49,
   "id": "e56cd74b",
   "metadata": {
    "scrolled": true
   },
   "outputs": [],
   "source": [
    "#test\n",
    "answers = getAnswers(\"Add Variable Editor to Custom Table\")"
   ]
  },
  {
   "cell_type": "code",
   "execution_count": 50,
   "id": "1440de01",
   "metadata": {},
   "outputs": [
    {
     "name": "stdout",
     "output_type": "stream",
     "text": [
      "{\n",
      "    \"484\": \"We are on Kingston version.I want to hide the new and Edit button from Problem form under the incidentrelated listI configured the list control with the below script.The EDIT button is invisible but not the NEW button.I want to add some condition. If the problem ticket is inactive then hide the buttons.The problem is it is not working evenwithoutcondition.\",\n",
      "    \"172\": \"Is it possible to dynamically change column labels in a List view using JavaScript?\",\n",
      "    \"94\": \"I set field in table is password(1 way encripted) but after create record,admin can't view this password.How can I make admin view this ? pls help me!\",\n",
      "    \"66\": \"We have a custom table to manage our applications, however one of the applications have different sys_id's in our prod and dev instances. This likely occurred because we created the entry in prod, rather than copy it over. I was wondering if there was a way to change the sys_id?Thanks!\",\n",
      "    \"62\": \"I am developing a scoped application for the ServiceNow store. In Studio under Forms & UI \\\\ List Layouts I see 16 List Layouts that I do not need to be part of my application. How do I remove them?\",\n",
      "    \"23\": \"I want to display a popup window in that have to display Table view data with the Action combo box. Please help me via poviding steps. Actually I have a table and need to display that table view inside that window. \",\n",
      "    \"10\": \"Hello community,Is it possible to apply a specific CSS class for the menu item of the active page ?Regards\",\n",
      "    \"7\": \"I have an Order Guide with a multi-text variable.  I would like to populate the Request short description with that fields value on Submit.  Any ideas?I tried a run script in my workflow: current.request.short_description = current.variables.mtxt_provision_notes; DOES NOT WORKAlso tried Catalog Client Script: DOES NOT WORKfunction onSubmit() {   g_form.setValue(\\\"current.request.short_description\\\", g_form.getValue('variables.mtxt_provision_notes'));   g_form.setValue(\\\"current.request.description\\\", g_form.getValue('variables.mtxt_provision_notes'));} \",\n",
      "    \"2\": \"I have a workflow where I just added a \\\"Wait For Condition\\\" state. How often does it check to see if the condition is met? Is there a way to modify this time?\",\n",
      "    \"1\": \"hii have one email notification in which i want to add approve / reject button instead of linklike if i click on approve it should automatically approve the ritmhow to achieve thisthanks in advance!!\"\n",
      "}\n"
     ]
    }
   ],
   "source": [
    "import json\n",
    "print(json.dumps(answers, sort_keys=False, indent=4))"
   ]
  }
 ],
 "metadata": {
  "kernelspec": {
   "display_name": "Python 3 (ipykernel)",
   "language": "python",
   "name": "python3"
  },
  "language_info": {
   "codemirror_mode": {
    "name": "ipython",
    "version": 3
   },
   "file_extension": ".py",
   "mimetype": "text/x-python",
   "name": "python",
   "nbconvert_exporter": "python",
   "pygments_lexer": "ipython3",
   "version": "3.7.13"
  }
 },
 "nbformat": 4,
 "nbformat_minor": 5
}
