{
 "cells": [
  {
   "cell_type": "markdown",
   "id": "82b1207e",
   "metadata": {},
   "source": [
    "**Preprocessing**"
   ]
  },
  {
   "cell_type": "code",
   "execution_count": 1,
   "id": "8519444b",
   "metadata": {},
   "outputs": [],
   "source": [
    "import pandas as pd"
   ]
  },
  {
   "cell_type": "code",
   "execution_count": 2,
   "id": "39a73b79",
   "metadata": {},
   "outputs": [],
   "source": [
    "df = pd.read_excel(\"ServiceNowQuestions_clean.xlsx\")"
   ]
  },
  {
   "cell_type": "code",
   "execution_count": 3,
   "id": "5a8f35e3",
   "metadata": {
    "scrolled": true
   },
   "outputs": [
    {
     "data": {
      "text/html": [
       "<div>\n",
       "<style scoped>\n",
       "    .dataframe tbody tr th:only-of-type {\n",
       "        vertical-align: middle;\n",
       "    }\n",
       "\n",
       "    .dataframe tbody tr th {\n",
       "        vertical-align: top;\n",
       "    }\n",
       "\n",
       "    .dataframe thead th {\n",
       "        text-align: right;\n",
       "    }\n",
       "</style>\n",
       "<table border=\"1\" class=\"dataframe\">\n",
       "  <thead>\n",
       "    <tr style=\"text-align: right;\">\n",
       "      <th></th>\n",
       "      <th>level_0</th>\n",
       "      <th>Question</th>\n",
       "      <th>Answer</th>\n",
       "    </tr>\n",
       "  </thead>\n",
       "  <tbody>\n",
       "    <tr>\n",
       "      <th>0</th>\n",
       "      <td>12935</td>\n",
       "      <td>Hi All,We have an input where we will get a va...</td>\n",
       "      <td>So you need to write this in server-side scrip...</td>\n",
       "    </tr>\n",
       "    <tr>\n",
       "      <th>1</th>\n",
       "      <td>12936</td>\n",
       "      <td>I am trying to find the most recent date in a ...</td>\n",
       "      <td>Hi Wade,I was going to try to step through tro...</td>\n",
       "    </tr>\n",
       "    <tr>\n",
       "      <th>2</th>\n",
       "      <td>12937</td>\n",
       "      <td>Hello,I am having problems getting my addQuery...</td>\n",
       "      <td>Please see below for how to troubleshoot and s...</td>\n",
       "    </tr>\n",
       "    <tr>\n",
       "      <th>3</th>\n",
       "      <td>12938</td>\n",
       "      <td>Hi everyone, I'm looking to pick some brains a...</td>\n",
       "      <td>I have come across 2 solutions to address this...</td>\n",
       "    </tr>\n",
       "    <tr>\n",
       "      <th>4</th>\n",
       "      <td>12939</td>\n",
       "      <td>hii have one email notification in which i wan...</td>\n",
       "      <td>Hi User,Please follow below link or stepdhttps...</td>\n",
       "    </tr>\n",
       "    <tr>\n",
       "      <th>...</th>\n",
       "      <td>...</td>\n",
       "      <td>...</td>\n",
       "      <td>...</td>\n",
       "    </tr>\n",
       "    <tr>\n",
       "      <th>5739</th>\n",
       "      <td>18688</td>\n",
       "      <td>Is there a straight forward way to replicate t...</td>\n",
       "      <td>Hi David [davidsizu ],This is a custom impleme...</td>\n",
       "    </tr>\n",
       "    <tr>\n",
       "      <th>5740</th>\n",
       "      <td>18689</td>\n",
       "      <td>Hi,How do I go about making the UI Action butt...</td>\n",
       "      <td>Try something like: gs.getUser().isMemeberOf(c...</td>\n",
       "    </tr>\n",
       "    <tr>\n",
       "      <th>5741</th>\n",
       "      <td>18690</td>\n",
       "      <td>I want to apply validations to email . AS i Ca...</td>\n",
       "      <td>This is a system limitation. Field validations...</td>\n",
       "    </tr>\n",
       "    <tr>\n",
       "      <th>5742</th>\n",
       "      <td>18691</td>\n",
       "      <td>Hello Experts,I have gotten a request from a c...</td>\n",
       "      <td>Its a bit much code to include here, so I have...</td>\n",
       "    </tr>\n",
       "    <tr>\n",
       "      <th>5743</th>\n",
       "      <td>18692</td>\n",
       "      <td>Hello,Is there a way to send an email to an in...</td>\n",
       "      <td>And the answer is....ServiceNow says emails ca...</td>\n",
       "    </tr>\n",
       "  </tbody>\n",
       "</table>\n",
       "<p>5744 rows × 3 columns</p>\n",
       "</div>"
      ],
      "text/plain": [
       "      level_0                                           Question  \\\n",
       "0       12935  Hi All,We have an input where we will get a va...   \n",
       "1       12936  I am trying to find the most recent date in a ...   \n",
       "2       12937  Hello,I am having problems getting my addQuery...   \n",
       "3       12938  Hi everyone, I'm looking to pick some brains a...   \n",
       "4       12939  hii have one email notification in which i wan...   \n",
       "...       ...                                                ...   \n",
       "5739    18688  Is there a straight forward way to replicate t...   \n",
       "5740    18689  Hi,How do I go about making the UI Action butt...   \n",
       "5741    18690  I want to apply validations to email . AS i Ca...   \n",
       "5742    18691  Hello Experts,I have gotten a request from a c...   \n",
       "5743    18692  Hello,Is there a way to send an email to an in...   \n",
       "\n",
       "                                                 Answer  \n",
       "0     So you need to write this in server-side scrip...  \n",
       "1     Hi Wade,I was going to try to step through tro...  \n",
       "2     Please see below for how to troubleshoot and s...  \n",
       "3     I have come across 2 solutions to address this...  \n",
       "4     Hi User,Please follow below link or stepdhttps...  \n",
       "...                                                 ...  \n",
       "5739  Hi David [davidsizu ],This is a custom impleme...  \n",
       "5740  Try something like: gs.getUser().isMemeberOf(c...  \n",
       "5741  This is a system limitation. Field validations...  \n",
       "5742  Its a bit much code to include here, so I have...  \n",
       "5743  And the answer is....ServiceNow says emails ca...  \n",
       "\n",
       "[5744 rows x 3 columns]"
      ]
     },
     "execution_count": 3,
     "metadata": {},
     "output_type": "execute_result"
    }
   ],
   "source": [
    "df.drop('Tags', inplace=True, axis=1)\n",
    "df.drop('index', inplace=True, axis=1)\n",
    "df.drop('Title', inplace=True, axis=1)\n",
    "df"
   ]
  },
  {
   "cell_type": "code",
   "execution_count": 4,
   "id": "72749ca4",
   "metadata": {},
   "outputs": [],
   "source": [
    "df = df.astype({\"Question\": str})"
   ]
  },
  {
   "cell_type": "code",
   "execution_count": 5,
   "id": "fabf6ee5",
   "metadata": {},
   "outputs": [],
   "source": [
    "import re\n",
    "import gensim\n",
    "from gensim.parsing.preprocessing import remove_stopwords"
   ]
  },
  {
   "cell_type": "code",
   "execution_count": 6,
   "id": "fcce56e0",
   "metadata": {
    "scrolled": true
   },
   "outputs": [
    {
     "name": "stdout",
     "output_type": "stream",
     "text": [
      "hi all,we input value short_description (for example lets say: 1 50 numbers short_description)i want value 1 30 characters.how trim short_description value 30 charactersregards,reddy\n",
      "\n",
      "\n",
      "hi all,we have an input where we will get a value as short_description (for example lets say: 1 to 50 numbers in short_description)i want the value which is after 1 to 30 characters.how to trim the short_description value more than 30 charactersregards,reddy\n"
     ]
    }
   ],
   "source": [
    "def clean_sentence(s, stopWords=False):\n",
    "    s = s.lower().strip()\n",
    "    #s = re.sub(r'[^a-z0-9\\s]',' ',s)\n",
    "    if stopWords:\n",
    "        s = remove_stopwords(s)\n",
    "    return s\n",
    "\n",
    "def get_cleaned(df, stopWords=False):\n",
    "    sents = df[[\"Question\"]]\n",
    "    cleaned_sentences = []\n",
    "    for index, row in df.iterrows():\n",
    "        cleaned = clean_sentence(row[\"Question\"], stopWords)\n",
    "        cleaned_sentences.append(cleaned)\n",
    "    return cleaned_sentences\n",
    "\n",
    "cleaned_s_with_not_stopword = get_cleaned(df, stopWords = True)\n",
    "\n",
    "print(cleaned_s_with_not_stopword[0])\n",
    "\n",
    "print(\"\\n\")\n",
    "cleaned_s_with_stopword = get_cleaned(df, stopWords = False)\n",
    "    \n",
    "print(cleaned_s_with_stopword[0])"
   ]
  },
  {
   "cell_type": "code",
   "execution_count": 7,
   "id": "865daa23",
   "metadata": {},
   "outputs": [
    {
     "data": {
      "text/plain": [
       "'Hi All,We have an input where we will get a value as short_description (For example lets say: 1 to 50 numbers in short_description)I want the value which is after 1 to 30 characters.How to trim the short_description value more than 30 charactersRegards,Reddy'"
      ]
     },
     "execution_count": 7,
     "metadata": {},
     "output_type": "execute_result"
    }
   ],
   "source": [
    "df[\"Question\"][0]"
   ]
  },
  {
   "cell_type": "code",
   "execution_count": 8,
   "id": "ed0c0bf8",
   "metadata": {},
   "outputs": [
    {
     "name": "stdout",
     "output_type": "stream",
     "text": [
      "trying recent date function query attempt add 7 days reassign original field.here ui action tried, takes current date adds 7 days. sure why, query failure tell wrong.any help appreciated. thanks advance!var copyhours = false;try { var ts = new gliderecord('u_time_sheet'); ts.u_state = 'pending'; wsodate = getnextdate(); ts.u_weeks_start_on = wsodate.adddays(7); ts.u_user = current.u_user; var newid = ts.insert(); var te = new gliderecord('u_time_entry'); te.addquery('u_time_sheet', current.sys_id); te.query(); while(te.next()) { var tenew = new gliderecord('u_time_entry'); tenew.initialize(); tenew.u_time_sheet = newid; tenew.user = te.user; tenew.task = te.task; tenew.u_description = te.u_description; tenew.category = te.category; tenew.u_task_type = te.u_task_type; tenew.u_comments = te.u_comments; tenew.week_starts_on = te.week_starts_on; tenew.setworkflow(false); tenew.insert(); } gs.clearmessages(); gs.adderrormessage('a new timesheet created, verify week starts date update submission'); gs.setredirect('/u_time_sheet.do?sys_id=' + newid);}catch(err) { gs.log('copyts:error:' + err);}function getnextdate() { var count = new gliderecord('u_time_sheet'); count.addquery('user','current.user'); count.orderbydesc('week_starts_on'); count.setlimit(1); count.query(); (count.next()) { count.getvalue(\"u_week_starts_on\"); // gs.print(count.getdisplayvalue(\"week_starts_on\")); }}\n",
      "\n",
      "\n",
      "i am trying to find the most recent date in a function query in an attempt to add 7 days and reassign it to the original field.here is the ui action that i have tried, but it still only takes the current date and adds 7 days.  not sure why, at least a query failure would tell me if i was wrong.any help would be appreciated.  thanks in advance!var copyhours = false;try {  var ts = new gliderecord('u_time_sheet');  ts.u_state = 'pending';  wsodate = getnextdate();  ts.u_weeks_start_on = wsodate.adddays(7);  ts.u_user = current.u_user;  var newid = ts.insert();  var te = new gliderecord('u_time_entry');  te.addquery('u_time_sheet', current.sys_id);  te.query();  while(te.next()) {  var tenew = new gliderecord('u_time_entry');  tenew.initialize();  tenew.u_time_sheet = newid;  tenew.user = te.user;  tenew.task = te.task;  tenew.u_description = te.u_description;  tenew.category = te.category;  tenew.u_task_type = te.u_task_type;  tenew.u_comments = te.u_comments;  tenew.week_starts_on = te.week_starts_on;  tenew.setworkflow(false);  tenew.insert();  }  gs.clearmessages();  gs.adderrormessage('a new timesheet has been created, please verify week starts on date before update or submission');  gs.setredirect('/u_time_sheet.do?sys_id=' + newid);}catch(err) {  gs.log('copyts:error:' + err);}function getnextdate() {  var count = new gliderecord('u_time_sheet');  count.addquery('user','current.user');  count.orderbydesc('week_starts_on');  count.setlimit(1);  count.query();  if (count.next()) {  count.getvalue(\"u_week_starts_on\");  // gs.print(count.getdisplayvalue(\"week_starts_on\"));  }}\n"
     ]
    }
   ],
   "source": [
    "\n",
    "print(cleaned_s_with_not_stopword[1])\n",
    "\n",
    "print(\"\\n\")\n",
    "\n",
    "    \n",
    "print(cleaned_s_with_stopword[1])"
   ]
  },
  {
   "cell_type": "code",
   "execution_count": 9,
   "id": "9c5ce588",
   "metadata": {},
   "outputs": [
    {
     "data": {
      "text/plain": [
       "'I am trying to find the most recent date in a function query in an attempt to add 7 days and reassign it to the original field.Here is the UI Action that I have tried, but it still only takes the current date and adds 7 days.  Not sure why, at least a query failure would tell me if I was wrong.Any help would be appreciated.  Thanks in advance!var copyHours = false;try {  var ts = new GlideRecord(\\'u_time_sheet\\');  ts.u_state = \\'Pending\\';  wsodate = getnextdate();  ts.u_weeks_start_on = wsodate.addDays(7);  ts.u_user = current.u_user;  var newID = ts.insert();  var te = new GlideRecord(\\'u_time_entry\\');  te.addQuery(\\'u_time_sheet\\', current.sys_id);  te.query();  while(te.next()) {  var teNew = new GlideRecord(\\'u_time_entry\\');  teNew.initialize();  teNew.u_time_sheet = newID;  teNew.user = te.user;  teNew.task = te.task;  teNew.u_description = te.u_description;  teNew.category = te.category;  teNew.u_task_type = te.u_task_type;  teNew.u_comments = te.u_comments;  teNew.week_starts_on = te.week_starts_on;  teNew.setWorkflow(false);  teNew.insert();  }  gs.clearMessages();  gs.addErrorMessage(\\'A new timesheet has been created, please verify Week Starts on Date before update or submission\\');  gs.setRedirect(\\'/u_time_sheet.do?sys_id=\\' + newID);}catch(err) {  gs.log(\\'CopyTS:ERROR:\\' + err);}function getnextdate() {  var count = new GlideRecord(\\'u_time_sheet\\');  count.addQuery(\\'user\\',\\'current.user\\');  count.orderByDesc(\\'week_starts_on\\');  count.setLimit(1);  count.query();  if (count.next()) {  count.getValue(\"u_week_starts_on\");  // gs.print(count.getDisplayValue(\"week_starts_on\"));  }}'"
      ]
     },
     "execution_count": 9,
     "metadata": {},
     "output_type": "execute_result"
    }
   ],
   "source": [
    "df[\"Question\"][1]"
   ]
  },
  {
   "cell_type": "code",
   "execution_count": 2,
   "id": "34f73147",
   "metadata": {},
   "outputs": [
    {
     "ename": "KeyboardInterrupt",
     "evalue": "",
     "output_type": "error",
     "traceback": [
      "\u001b[0;31m---------------------------------------------------------------------------\u001b[0m",
      "\u001b[0;31mKeyboardInterrupt\u001b[0m                         Traceback (most recent call last)",
      "\u001b[0;32m/var/folders/0c/42szly2x7k74b0wlk8tm6g4w0000gn/T/ipykernel_16217/3912930469.py\u001b[0m in \u001b[0;36m<module>\u001b[0;34m\u001b[0m\n\u001b[1;32m      1\u001b[0m \u001b[0;32mfrom\u001b[0m \u001b[0mbert_serving\u001b[0m\u001b[0;34m.\u001b[0m\u001b[0mclient\u001b[0m \u001b[0;32mimport\u001b[0m \u001b[0mBertClient\u001b[0m\u001b[0;34m\u001b[0m\u001b[0;34m\u001b[0m\u001b[0m\n\u001b[0;32m----> 2\u001b[0;31m \u001b[0mbc\u001b[0m \u001b[0;34m=\u001b[0m \u001b[0mBertClient\u001b[0m\u001b[0;34m(\u001b[0m\u001b[0;34m)\u001b[0m\u001b[0;34m\u001b[0m\u001b[0;34m\u001b[0m\u001b[0m\n\u001b[0m",
      "\u001b[0;32m~/opt/anaconda3/lib/python3.9/site-packages/bert_serving/client/__init__.py\u001b[0m in \u001b[0;36m__init__\u001b[0;34m(self, ip, port, port_out, output_fmt, show_server_config, identity, check_version, check_length, check_token_info, ignore_all_checks, timeout)\u001b[0m\n\u001b[1;32m    106\u001b[0m \u001b[0;34m\u001b[0m\u001b[0m\n\u001b[1;32m    107\u001b[0m         \u001b[0;32mif\u001b[0m \u001b[0;32mnot\u001b[0m \u001b[0mignore_all_checks\u001b[0m \u001b[0;32mand\u001b[0m \u001b[0;34m(\u001b[0m\u001b[0mcheck_version\u001b[0m \u001b[0;32mor\u001b[0m \u001b[0mshow_server_config\u001b[0m \u001b[0;32mor\u001b[0m \u001b[0mcheck_length\u001b[0m \u001b[0;32mor\u001b[0m \u001b[0mcheck_token_info\u001b[0m\u001b[0;34m)\u001b[0m\u001b[0;34m:\u001b[0m\u001b[0;34m\u001b[0m\u001b[0;34m\u001b[0m\u001b[0m\n\u001b[0;32m--> 108\u001b[0;31m             \u001b[0ms_status\u001b[0m \u001b[0;34m=\u001b[0m \u001b[0mself\u001b[0m\u001b[0;34m.\u001b[0m\u001b[0mserver_config\u001b[0m\u001b[0;34m\u001b[0m\u001b[0;34m\u001b[0m\u001b[0m\n\u001b[0m\u001b[1;32m    109\u001b[0m \u001b[0;34m\u001b[0m\u001b[0m\n\u001b[1;32m    110\u001b[0m             \u001b[0;32mif\u001b[0m \u001b[0mcheck_version\u001b[0m \u001b[0;32mand\u001b[0m \u001b[0ms_status\u001b[0m\u001b[0;34m[\u001b[0m\u001b[0;34m'server_version'\u001b[0m\u001b[0;34m]\u001b[0m \u001b[0;34m!=\u001b[0m \u001b[0mself\u001b[0m\u001b[0;34m.\u001b[0m\u001b[0mstatus\u001b[0m\u001b[0;34m[\u001b[0m\u001b[0;34m'client_version'\u001b[0m\u001b[0;34m]\u001b[0m\u001b[0;34m:\u001b[0m\u001b[0;34m\u001b[0m\u001b[0;34m\u001b[0m\u001b[0m\n",
      "\u001b[0;32m~/opt/anaconda3/lib/python3.9/site-packages/bert_serving/client/__init__.py\u001b[0m in \u001b[0;36marg_wrapper\u001b[0;34m(self, *args, **kwargs)\u001b[0m\n\u001b[1;32m    204\u001b[0m                 \u001b[0mself\u001b[0m\u001b[0;34m.\u001b[0m\u001b[0mreceiver\u001b[0m\u001b[0;34m.\u001b[0m\u001b[0msetsockopt\u001b[0m\u001b[0;34m(\u001b[0m\u001b[0mzmq\u001b[0m\u001b[0;34m.\u001b[0m\u001b[0mRCVTIMEO\u001b[0m\u001b[0;34m,\u001b[0m \u001b[0mself\u001b[0m\u001b[0;34m.\u001b[0m\u001b[0mtimeout\u001b[0m\u001b[0;34m)\u001b[0m\u001b[0;34m\u001b[0m\u001b[0;34m\u001b[0m\u001b[0m\n\u001b[1;32m    205\u001b[0m             \u001b[0;32mtry\u001b[0m\u001b[0;34m:\u001b[0m\u001b[0;34m\u001b[0m\u001b[0;34m\u001b[0m\u001b[0m\n\u001b[0;32m--> 206\u001b[0;31m                 \u001b[0;32mreturn\u001b[0m \u001b[0mfunc\u001b[0m\u001b[0;34m(\u001b[0m\u001b[0mself\u001b[0m\u001b[0;34m,\u001b[0m \u001b[0;34m*\u001b[0m\u001b[0margs\u001b[0m\u001b[0;34m,\u001b[0m \u001b[0;34m**\u001b[0m\u001b[0mkwargs\u001b[0m\u001b[0;34m)\u001b[0m\u001b[0;34m\u001b[0m\u001b[0;34m\u001b[0m\u001b[0m\n\u001b[0m\u001b[1;32m    207\u001b[0m             \u001b[0;32mexcept\u001b[0m \u001b[0mzmq\u001b[0m\u001b[0;34m.\u001b[0m\u001b[0merror\u001b[0m\u001b[0;34m.\u001b[0m\u001b[0mAgain\u001b[0m \u001b[0;32mas\u001b[0m \u001b[0m_e\u001b[0m\u001b[0;34m:\u001b[0m\u001b[0;34m\u001b[0m\u001b[0;34m\u001b[0m\u001b[0m\n\u001b[1;32m    208\u001b[0m                 t_e = TimeoutError(\n",
      "\u001b[0;32m~/opt/anaconda3/lib/python3.9/site-packages/bert_serving/client/__init__.py\u001b[0m in \u001b[0;36mserver_config\u001b[0;34m(self)\u001b[0m\n\u001b[1;32m    230\u001b[0m         \"\"\"\n\u001b[1;32m    231\u001b[0m         \u001b[0mreq_id\u001b[0m \u001b[0;34m=\u001b[0m \u001b[0mself\u001b[0m\u001b[0;34m.\u001b[0m\u001b[0m_send\u001b[0m\u001b[0;34m(\u001b[0m\u001b[0;34mb'SHOW_CONFIG'\u001b[0m\u001b[0;34m)\u001b[0m\u001b[0;34m\u001b[0m\u001b[0;34m\u001b[0m\u001b[0m\n\u001b[0;32m--> 232\u001b[0;31m         \u001b[0;32mreturn\u001b[0m \u001b[0mjsonapi\u001b[0m\u001b[0;34m.\u001b[0m\u001b[0mloads\u001b[0m\u001b[0;34m(\u001b[0m\u001b[0mself\u001b[0m\u001b[0;34m.\u001b[0m\u001b[0m_recv\u001b[0m\u001b[0;34m(\u001b[0m\u001b[0mreq_id\u001b[0m\u001b[0;34m)\u001b[0m\u001b[0;34m.\u001b[0m\u001b[0mcontent\u001b[0m\u001b[0;34m[\u001b[0m\u001b[0;36m1\u001b[0m\u001b[0;34m]\u001b[0m\u001b[0;34m)\u001b[0m\u001b[0;34m\u001b[0m\u001b[0;34m\u001b[0m\u001b[0m\n\u001b[0m\u001b[1;32m    233\u001b[0m \u001b[0;34m\u001b[0m\u001b[0m\n\u001b[1;32m    234\u001b[0m     \u001b[0;34m@\u001b[0m\u001b[0mproperty\u001b[0m\u001b[0;34m\u001b[0m\u001b[0;34m\u001b[0m\u001b[0m\n",
      "\u001b[0;32m~/opt/anaconda3/lib/python3.9/site-packages/bert_serving/client/__init__.py\u001b[0m in \u001b[0;36m_recv\u001b[0;34m(self, wait_for_req_id)\u001b[0m\n\u001b[1;32m    151\u001b[0m \u001b[0;34m\u001b[0m\u001b[0m\n\u001b[1;32m    152\u001b[0m                 \u001b[0;31m# receive a response\u001b[0m\u001b[0;34m\u001b[0m\u001b[0;34m\u001b[0m\u001b[0m\n\u001b[0;32m--> 153\u001b[0;31m                 \u001b[0mresponse\u001b[0m \u001b[0;34m=\u001b[0m \u001b[0mself\u001b[0m\u001b[0;34m.\u001b[0m\u001b[0mreceiver\u001b[0m\u001b[0;34m.\u001b[0m\u001b[0mrecv_multipart\u001b[0m\u001b[0;34m(\u001b[0m\u001b[0;34m)\u001b[0m\u001b[0;34m\u001b[0m\u001b[0;34m\u001b[0m\u001b[0m\n\u001b[0m\u001b[1;32m    154\u001b[0m                 \u001b[0mrequest_id\u001b[0m \u001b[0;34m=\u001b[0m \u001b[0mint\u001b[0m\u001b[0;34m(\u001b[0m\u001b[0mresponse\u001b[0m\u001b[0;34m[\u001b[0m\u001b[0;34m-\u001b[0m\u001b[0;36m1\u001b[0m\u001b[0;34m]\u001b[0m\u001b[0;34m)\u001b[0m\u001b[0;34m\u001b[0m\u001b[0;34m\u001b[0m\u001b[0m\n\u001b[1;32m    155\u001b[0m \u001b[0;34m\u001b[0m\u001b[0m\n",
      "\u001b[0;32m~/opt/anaconda3/lib/python3.9/site-packages/zmq/sugar/socket.py\u001b[0m in \u001b[0;36mrecv_multipart\u001b[0;34m(self, flags, copy, track)\u001b[0m\n\u001b[1;32m    617\u001b[0m             \u001b[0;32mfor\u001b[0m \u001b[0many\u001b[0m \u001b[0mof\u001b[0m \u001b[0mthe\u001b[0m \u001b[0mreasons\u001b[0m \u001b[0;34m:\u001b[0m\u001b[0mfunc\u001b[0m\u001b[0;34m:\u001b[0m\u001b[0;31m`\u001b[0m\u001b[0;34m~\u001b[0m\u001b[0mSocket\u001b[0m\u001b[0;34m.\u001b[0m\u001b[0mrecv\u001b[0m\u001b[0;31m`\u001b[0m \u001b[0mmight\u001b[0m \u001b[0mfail\u001b[0m\u001b[0;34m\u001b[0m\u001b[0;34m\u001b[0m\u001b[0m\n\u001b[1;32m    618\u001b[0m         \"\"\"\n\u001b[0;32m--> 619\u001b[0;31m         \u001b[0mparts\u001b[0m \u001b[0;34m=\u001b[0m \u001b[0;34m[\u001b[0m\u001b[0mself\u001b[0m\u001b[0;34m.\u001b[0m\u001b[0mrecv\u001b[0m\u001b[0;34m(\u001b[0m\u001b[0mflags\u001b[0m\u001b[0;34m,\u001b[0m \u001b[0mcopy\u001b[0m\u001b[0;34m=\u001b[0m\u001b[0mcopy\u001b[0m\u001b[0;34m,\u001b[0m \u001b[0mtrack\u001b[0m\u001b[0;34m=\u001b[0m\u001b[0mtrack\u001b[0m\u001b[0;34m)\u001b[0m\u001b[0;34m]\u001b[0m\u001b[0;34m\u001b[0m\u001b[0;34m\u001b[0m\u001b[0m\n\u001b[0m\u001b[1;32m    620\u001b[0m         \u001b[0;31m# have first part already, only loop while more to receive\u001b[0m\u001b[0;34m\u001b[0m\u001b[0;34m\u001b[0m\u001b[0m\n\u001b[1;32m    621\u001b[0m         \u001b[0;32mwhile\u001b[0m \u001b[0mself\u001b[0m\u001b[0;34m.\u001b[0m\u001b[0mgetsockopt\u001b[0m\u001b[0;34m(\u001b[0m\u001b[0mzmq\u001b[0m\u001b[0;34m.\u001b[0m\u001b[0mRCVMORE\u001b[0m\u001b[0;34m)\u001b[0m\u001b[0;34m:\u001b[0m\u001b[0;34m\u001b[0m\u001b[0;34m\u001b[0m\u001b[0m\n",
      "\u001b[0;32mzmq/backend/cython/socket.pyx\u001b[0m in \u001b[0;36mzmq.backend.cython.socket.Socket.recv\u001b[0;34m()\u001b[0m\n",
      "\u001b[0;32mzmq/backend/cython/socket.pyx\u001b[0m in \u001b[0;36mzmq.backend.cython.socket.Socket.recv\u001b[0;34m()\u001b[0m\n",
      "\u001b[0;32mzmq/backend/cython/socket.pyx\u001b[0m in \u001b[0;36mzmq.backend.cython.socket._recv_copy\u001b[0;34m()\u001b[0m\n",
      "\u001b[0;32m~/opt/anaconda3/lib/python3.9/site-packages/zmq/backend/cython/checkrc.pxd\u001b[0m in \u001b[0;36mzmq.backend.cython.checkrc._check_rc\u001b[0;34m()\u001b[0m\n",
      "\u001b[0;31mKeyboardInterrupt\u001b[0m: "
     ]
    }
   ],
   "source": [
    "from bert_serving.client import BertClient\n",
    "bc = BertClient()"
   ]
  },
  {
   "cell_type": "code",
   "execution_count": null,
   "id": "3f69c818",
   "metadata": {},
   "outputs": [],
   "source": []
  }
 ],
 "metadata": {
  "kernelspec": {
   "display_name": "Python 3 (ipykernel)",
   "language": "python",
   "name": "python3"
  },
  "language_info": {
   "codemirror_mode": {
    "name": "ipython",
    "version": 3
   },
   "file_extension": ".py",
   "mimetype": "text/x-python",
   "name": "python",
   "nbconvert_exporter": "python",
   "pygments_lexer": "ipython3",
   "version": "3.9.7"
  }
 },
 "nbformat": 4,
 "nbformat_minor": 5
}
