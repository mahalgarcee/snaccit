{
 "cells": [
  {
   "cell_type": "code",
   "execution_count": 1,
   "id": "b40a6293",
   "metadata": {},
   "outputs": [],
   "source": [
    "#all the needed Imports\n",
    "import pandas as pd\n",
    "import numpy as np\n",
    "import matplotlib.pyplot as plt\n",
    "import sklearn\n",
    "from sklearn.metrics.pairwise import cosine_similarity\n",
    "import re\n",
    "import gensim\n",
    "from gensim.parsing.preprocessing import remove_stopwords"
   ]
  },
  {
   "cell_type": "code",
   "execution_count": 2,
   "id": "45ff77cf",
   "metadata": {},
   "outputs": [],
   "source": [
    "df = pd.read_excel(\"ServiceNowQuestions_clean.xlsx\")\n",
    "df.drop('Tags', inplace=True, axis=1)\n",
    "df.drop('index', inplace=True, axis=1)\n",
    "df.drop('Question', inplace=True, axis=1)\n",
    "df.drop('level_0', inplace=True, axis=1)"
   ]
  },
  {
   "cell_type": "code",
   "execution_count": 3,
   "id": "34a777cc",
   "metadata": {},
   "outputs": [
    {
     "data": {
      "text/html": [
       "<div>\n",
       "<style scoped>\n",
       "    .dataframe tbody tr th:only-of-type {\n",
       "        vertical-align: middle;\n",
       "    }\n",
       "\n",
       "    .dataframe tbody tr th {\n",
       "        vertical-align: top;\n",
       "    }\n",
       "\n",
       "    .dataframe thead th {\n",
       "        text-align: right;\n",
       "    }\n",
       "</style>\n",
       "<table border=\"1\" class=\"dataframe\">\n",
       "  <thead>\n",
       "    <tr style=\"text-align: right;\">\n",
       "      <th></th>\n",
       "      <th>Title</th>\n",
       "      <th>Answer</th>\n",
       "    </tr>\n",
       "  </thead>\n",
       "  <tbody>\n",
       "    <tr>\n",
       "      <th>0</th>\n",
       "      <td>how to cut / trim the value short_description ...</td>\n",
       "      <td>So you need to write this in server-side scrip...</td>\n",
       "    </tr>\n",
       "    <tr>\n",
       "      <th>1</th>\n",
       "      <td>Query to find max date</td>\n",
       "      <td>Hi Wade,I was going to try to step through tro...</td>\n",
       "    </tr>\n",
       "    <tr>\n",
       "      <th>2</th>\n",
       "      <td>addQuery and addEncodedQuery queries not worki...</td>\n",
       "      <td>Please see below for how to troubleshoot and s...</td>\n",
       "    </tr>\n",
       "    <tr>\n",
       "      <th>3</th>\n",
       "      <td>Create object from XML attachment larger than 5MB</td>\n",
       "      <td>I have come across 2 solutions to address this...</td>\n",
       "    </tr>\n",
       "    <tr>\n",
       "      <th>4</th>\n",
       "      <td>buttons on email notification</td>\n",
       "      <td>Hi User,Please follow below link or stepdhttps...</td>\n",
       "    </tr>\n",
       "    <tr>\n",
       "      <th>...</th>\n",
       "      <td>...</td>\n",
       "      <td>...</td>\n",
       "    </tr>\n",
       "    <tr>\n",
       "      <th>5739</th>\n",
       "      <td>Replicate Hi Support Top Blue Box Announcement</td>\n",
       "      <td>Hi David [davidsizu ],This is a custom impleme...</td>\n",
       "    </tr>\n",
       "    <tr>\n",
       "      <th>5740</th>\n",
       "      <td>UI Action button visible to only assigned assi...</td>\n",
       "      <td>Try something like: gs.getUser().isMemeberOf(c...</td>\n",
       "    </tr>\n",
       "    <tr>\n",
       "      <th>5741</th>\n",
       "      <td>How to choose field type as email?As I can see...</td>\n",
       "      <td>This is a system limitation. Field validations...</td>\n",
       "    </tr>\n",
       "    <tr>\n",
       "      <th>5742</th>\n",
       "      <td>Service Portal Widget</td>\n",
       "      <td>Its a bit much code to include here, so I have...</td>\n",
       "    </tr>\n",
       "    <tr>\n",
       "      <th>5743</th>\n",
       "      <td>Is it possible to send outbound email notifica...</td>\n",
       "      <td>And the answer is....ServiceNow says emails ca...</td>\n",
       "    </tr>\n",
       "  </tbody>\n",
       "</table>\n",
       "<p>5744 rows × 2 columns</p>\n",
       "</div>"
      ],
      "text/plain": [
       "                                                  Title  \\\n",
       "0     how to cut / trim the value short_description ...   \n",
       "1                                Query to find max date   \n",
       "2     addQuery and addEncodedQuery queries not worki...   \n",
       "3     Create object from XML attachment larger than 5MB   \n",
       "4                         buttons on email notification   \n",
       "...                                                 ...   \n",
       "5739     Replicate Hi Support Top Blue Box Announcement   \n",
       "5740  UI Action button visible to only assigned assi...   \n",
       "5741  How to choose field type as email?As I can see...   \n",
       "5742                              Service Portal Widget   \n",
       "5743  Is it possible to send outbound email notifica...   \n",
       "\n",
       "                                                 Answer  \n",
       "0     So you need to write this in server-side scrip...  \n",
       "1     Hi Wade,I was going to try to step through tro...  \n",
       "2     Please see below for how to troubleshoot and s...  \n",
       "3     I have come across 2 solutions to address this...  \n",
       "4     Hi User,Please follow below link or stepdhttps...  \n",
       "...                                                 ...  \n",
       "5739  Hi David [davidsizu ],This is a custom impleme...  \n",
       "5740  Try something like: gs.getUser().isMemeberOf(c...  \n",
       "5741  This is a system limitation. Field validations...  \n",
       "5742  Its a bit much code to include here, so I have...  \n",
       "5743  And the answer is....ServiceNow says emails ca...  \n",
       "\n",
       "[5744 rows x 2 columns]"
      ]
     },
     "execution_count": 3,
     "metadata": {},
     "output_type": "execute_result"
    }
   ],
   "source": [
    "df"
   ]
  },
  {
   "cell_type": "code",
   "execution_count": 4,
   "id": "1a3d58c2",
   "metadata": {},
   "outputs": [],
   "source": [
    "def clean_sentence(s, stopWords=False):\n",
    "    s = s.lower().strip()\n",
    "    #s = re.sub(r'[^a-z0-9\\s]',' ',s)\n",
    "    if stopWords:\n",
    "        s = remove_stopwords(s)\n",
    "    return s\n",
    "\n",
    "def get_cleaned(df, stopWords=False):\n",
    "    sents = df[[\"Title\"]]\n",
    "    cleaned_sentences = []\n",
    "    for index, row in df.iterrows():\n",
    "        cleaned = clean_sentence(row[\"Title\"], stopWords)\n",
    "        cleaned_sentences.append(cleaned)\n",
    "    return cleaned_sentences\n",
    "cleaned_s_with_not_stopword = get_cleaned(df, stopWords=True)"
   ]
  },
  {
   "cell_type": "code",
   "execution_count": 5,
   "id": "fe054648",
   "metadata": {},
   "outputs": [
    {
     "name": "stderr",
     "output_type": "stream",
     "text": [
      "C:\\Users\\Maha\\anaconda3\\envs\\bert\\lib\\site-packages\\bert_serving\\client\\__init__.py:299: UserWarning: some of your sentences have more tokens than \"max_seq_len=25\" set on the server, as consequence you may get less-accurate or truncated embeddings.\n",
      "here is what you can do:\n",
      "- disable the length-check by create a new \"BertClient(check_length=False)\" when you do not want to display this warning\n",
      "- or, start a new server with a larger \"max_seq_len\"\n",
      "  '- or, start a new server with a larger \"max_seq_len\"' % self.length_limit)\n"
     ]
    }
   ],
   "source": [
    "from bert_serving.client import BertClient\n",
    "bc = BertClient()\n",
    "#run this cell only once !!!!!!!!!!!!!!!!!!!!!!\n",
    "questions_embedding = []\n",
    "for question_ in cleaned_s_with_not_stopword:\n",
    "    questions_embedding.append(bc.encode([question_]))"
   ]
  },
  {
   "cell_type": "code",
   "execution_count": 24,
   "id": "38a4accc",
   "metadata": {},
   "outputs": [],
   "source": [
    "def retrieveAndPrintAnswer(question_embedding, sentence_embeddings, df, sentences):\n",
    "    max_sim = -1\n",
    "    index_sim = -1\n",
    "    potential_questions_indexes = []\n",
    "    potential_questions = []\n",
    "    answers = {}\n",
    "    for index, faq_embedding in enumerate(sentence_embeddings):\n",
    "        sim = cosine_similarity(faq_embedding, question_embedding)[0][0]    \n",
    "        if sim>max_sim:\n",
    "            max_sim = sim\n",
    "            index_sim = index\n",
    "            potential_questions_indexes.append(index_sim)\n",
    "            potential_questions.append(df.iloc[index_sim,0])\n",
    "    if(len(potential_questions)>11):\n",
    "        potential_questions_indexes = potential_questions_indexes[1:11]\n",
    "        potential_questions= potential_questions[1:11]\n",
    "    potential_questions_indexes.reverse()\n",
    "    potential_questions.reverse()\n",
    "    answers = dict( zip(potential_questions_indexes,potential_questions))\n",
    "    return answers\n",
    "#     print(\"\\n\")\n",
    "#     print(\"Question:\", question)\n",
    "#     print(\"\\n\")\n",
    "#     print(\"Question retrieved:\", df.iloc[index_sim,1])\n",
    "#     print(\"\\n\")\n",
    "#     print(\"Answer retrieved:\",df.iloc[index_sim,2])"
   ]
  },
  {
   "cell_type": "code",
   "execution_count": 25,
   "id": "92747baf",
   "metadata": {},
   "outputs": [],
   "source": [
    "def getAnswers(question):\n",
    "    question = clean_sentence(question, stopWords=True)\n",
    "    question_embedding = bc.encode([question])\n",
    "    answers = retrieveAndPrintAnswer(question_embedding, questions_embedding, df, cleaned_s_with_not_stopword)\n",
    "    return answers"
   ]
  },
  {
   "cell_type": "code",
   "execution_count": 26,
   "id": "4e410415",
   "metadata": {},
   "outputs": [],
   "source": [
    "answers = getAnswers(\"Add Variable Editor to Custom Table\")"
   ]
  },
  {
   "cell_type": "code",
   "execution_count": 27,
   "id": "597a4547",
   "metadata": {},
   "outputs": [
    {
     "name": "stdout",
     "output_type": "stream",
     "text": [
      "{\n",
      "    \"286\": \"Add Variable Editor to Custom Table\",\n",
      "    \"12\": \"Display Variable Editor in Service Portal\",\n",
      "    \"9\": \"Update of multiple records using glide record script\",\n",
      "    \"3\": \"Create object from XML attachment larger than 5MB\",\n",
      "    \"0\": \"how to cut / trim the value short_description records\"\n",
      "}\n"
     ]
    }
   ],
   "source": [
    "import json\n",
    "print(json.dumps(answers, sort_keys=False, indent=4))"
   ]
  }
 ],
 "metadata": {
  "kernelspec": {
   "display_name": "Python 3 (ipykernel)",
   "language": "python",
   "name": "python3"
  },
  "language_info": {
   "codemirror_mode": {
    "name": "ipython",
    "version": 3
   },
   "file_extension": ".py",
   "mimetype": "text/x-python",
   "name": "python",
   "nbconvert_exporter": "python",
   "pygments_lexer": "ipython3",
   "version": "3.7.13"
  }
 },
 "nbformat": 4,
 "nbformat_minor": 5
}
